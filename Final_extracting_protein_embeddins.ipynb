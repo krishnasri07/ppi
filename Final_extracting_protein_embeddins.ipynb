{
 "cells": [
  {
   "cell_type": "code",
   "execution_count": 1,
   "metadata": {
    "_cell_guid": "b1076dfc-b9ad-4769-8c92-a6c4dae69d19",
    "_uuid": "8f2839f25d086af736a60e9eeb907d3b93b6e0e5",
    "execution": {
     "iopub.execute_input": "2025-08-22T12:11:31.186028Z",
     "iopub.status.busy": "2025-08-22T12:11:31.185711Z",
     "iopub.status.idle": "2025-08-22T12:11:32.058375Z",
     "shell.execute_reply": "2025-08-22T12:11:32.057447Z",
     "shell.execute_reply.started": "2025-08-22T12:11:31.185996Z"
    },
    "trusted": true
   },
   "outputs": [
    {
     "name": "stdout",
     "output_type": "stream",
     "text": [
      "/kaggle/input/protein-final-embeddings/protein_embeddings_combined.pkl\n",
      "/kaggle/input/protein-sequences/protein_sequences.pkl\n",
      "/kaggle/input/ppi-dataset/9606.protein.physical.links.v12.0.txt\n"
     ]
    }
   ],
   "source": [
    "# This Python 3 environment comes with many helpful analytics libraries installed\n",
    "# It is defined by the kaggle/python Docker image: https://github.com/kaggle/docker-python\n",
    "# For example, here's several helpful packages to load\n",
    "\n",
    "import numpy as np # linear algebra\n",
    "import pandas as pd # data processing, CSV file I/O (e.g. pd.read_csv)\n",
    "\n",
    "# Input data files are available in the read-only \"../input/\" directory\n",
    "# For example, running this (by clicking run or pressing Shift+Enter) will list all files under the input directory\n",
    "\n",
    "import os\n",
    "for dirname, _, filenames in os.walk('/kaggle/input'):\n",
    "    for filename in filenames:\n",
    "        print(os.path.join(dirname, filename))\n",
    "\n",
    "# You can write up to 20GB to the current directory (/kaggle/working/) that gets preserved as output when you create a version using \"Save & Run All\" \n",
    "# You can also write temporary files to /kaggle/temp/, but they won't be saved outside of the current session"
   ]
  },
  {
   "cell_type": "code",
   "execution_count": 2,
   "metadata": {
    "execution": {
     "iopub.execute_input": "2025-07-26T10:31:34.437103Z",
     "iopub.status.busy": "2025-07-26T10:31:34.436626Z",
     "iopub.status.idle": "2025-07-26T10:33:02.897515Z",
     "shell.execute_reply": "2025-07-26T10:33:02.896510Z",
     "shell.execute_reply.started": "2025-07-26T10:31:34.437075Z"
    },
    "trusted": true
   },
   "outputs": [
    {
     "name": "stdout",
     "output_type": "stream",
     "text": [
      "Requirement already satisfied: transformers in /usr/local/lib/python3.11/dist-packages (4.51.3)\n",
      "Requirement already satisfied: accelerate in /usr/local/lib/python3.11/dist-packages (1.5.2)\n",
      "Requirement already satisfied: filelock in /usr/local/lib/python3.11/dist-packages (from transformers) (3.18.0)\n",
      "Requirement already satisfied: huggingface-hub<1.0,>=0.30.0 in /usr/local/lib/python3.11/dist-packages (from transformers) (0.31.1)\n",
      "Requirement already satisfied: numpy>=1.17 in /usr/local/lib/python3.11/dist-packages (from transformers) (1.26.4)\n",
      "Requirement already satisfied: packaging>=20.0 in /usr/local/lib/python3.11/dist-packages (from transformers) (25.0)\n",
      "Requirement already satisfied: pyyaml>=5.1 in /usr/local/lib/python3.11/dist-packages (from transformers) (6.0.2)\n",
      "Requirement already satisfied: regex!=2019.12.17 in /usr/local/lib/python3.11/dist-packages (from transformers) (2024.11.6)\n",
      "Requirement already satisfied: requests in /usr/local/lib/python3.11/dist-packages (from transformers) (2.32.3)\n",
      "Requirement already satisfied: tokenizers<0.22,>=0.21 in /usr/local/lib/python3.11/dist-packages (from transformers) (0.21.1)\n",
      "Requirement already satisfied: safetensors>=0.4.3 in /usr/local/lib/python3.11/dist-packages (from transformers) (0.5.3)\n",
      "Requirement already satisfied: tqdm>=4.27 in /usr/local/lib/python3.11/dist-packages (from transformers) (4.67.1)\n",
      "Requirement already satisfied: psutil in /usr/local/lib/python3.11/dist-packages (from accelerate) (7.0.0)\n",
      "Requirement already satisfied: torch>=2.0.0 in /usr/local/lib/python3.11/dist-packages (from accelerate) (2.6.0+cu124)\n",
      "Requirement already satisfied: fsspec>=2023.5.0 in /usr/local/lib/python3.11/dist-packages (from huggingface-hub<1.0,>=0.30.0->transformers) (2025.3.2)\n",
      "Requirement already satisfied: typing-extensions>=3.7.4.3 in /usr/local/lib/python3.11/dist-packages (from huggingface-hub<1.0,>=0.30.0->transformers) (4.13.2)\n",
      "Requirement already satisfied: hf-xet<2.0.0,>=1.1.0 in /usr/local/lib/python3.11/dist-packages (from huggingface-hub<1.0,>=0.30.0->transformers) (1.1.0)\n",
      "Requirement already satisfied: mkl_fft in /usr/local/lib/python3.11/dist-packages (from numpy>=1.17->transformers) (1.3.8)\n",
      "Requirement already satisfied: mkl_random in /usr/local/lib/python3.11/dist-packages (from numpy>=1.17->transformers) (1.2.4)\n",
      "Requirement already satisfied: mkl_umath in /usr/local/lib/python3.11/dist-packages (from numpy>=1.17->transformers) (0.1.1)\n",
      "Requirement already satisfied: mkl in /usr/local/lib/python3.11/dist-packages (from numpy>=1.17->transformers) (2025.1.0)\n",
      "Requirement already satisfied: tbb4py in /usr/local/lib/python3.11/dist-packages (from numpy>=1.17->transformers) (2022.1.0)\n",
      "Requirement already satisfied: mkl-service in /usr/local/lib/python3.11/dist-packages (from numpy>=1.17->transformers) (2.4.1)\n",
      "Requirement already satisfied: networkx in /usr/local/lib/python3.11/dist-packages (from torch>=2.0.0->accelerate) (3.4.2)\n",
      "Requirement already satisfied: jinja2 in /usr/local/lib/python3.11/dist-packages (from torch>=2.0.0->accelerate) (3.1.6)\n",
      "Requirement already satisfied: nvidia-cuda-nvrtc-cu12==12.4.127 in /usr/local/lib/python3.11/dist-packages (from torch>=2.0.0->accelerate) (12.4.127)\n",
      "Requirement already satisfied: nvidia-cuda-runtime-cu12==12.4.127 in /usr/local/lib/python3.11/dist-packages (from torch>=2.0.0->accelerate) (12.4.127)\n",
      "Requirement already satisfied: nvidia-cuda-cupti-cu12==12.4.127 in /usr/local/lib/python3.11/dist-packages (from torch>=2.0.0->accelerate) (12.4.127)\n",
      "Collecting nvidia-cudnn-cu12==9.1.0.70 (from torch>=2.0.0->accelerate)\n",
      "  Downloading nvidia_cudnn_cu12-9.1.0.70-py3-none-manylinux2014_x86_64.whl.metadata (1.6 kB)\n",
      "Collecting nvidia-cublas-cu12==12.4.5.8 (from torch>=2.0.0->accelerate)\n",
      "  Downloading nvidia_cublas_cu12-12.4.5.8-py3-none-manylinux2014_x86_64.whl.metadata (1.5 kB)\n",
      "Collecting nvidia-cufft-cu12==11.2.1.3 (from torch>=2.0.0->accelerate)\n",
      "  Downloading nvidia_cufft_cu12-11.2.1.3-py3-none-manylinux2014_x86_64.whl.metadata (1.5 kB)\n",
      "Collecting nvidia-curand-cu12==10.3.5.147 (from torch>=2.0.0->accelerate)\n",
      "  Downloading nvidia_curand_cu12-10.3.5.147-py3-none-manylinux2014_x86_64.whl.metadata (1.5 kB)\n",
      "Collecting nvidia-cusolver-cu12==11.6.1.9 (from torch>=2.0.0->accelerate)\n",
      "  Downloading nvidia_cusolver_cu12-11.6.1.9-py3-none-manylinux2014_x86_64.whl.metadata (1.6 kB)\n",
      "Collecting nvidia-cusparse-cu12==12.3.1.170 (from torch>=2.0.0->accelerate)\n",
      "  Downloading nvidia_cusparse_cu12-12.3.1.170-py3-none-manylinux2014_x86_64.whl.metadata (1.6 kB)\n",
      "Requirement already satisfied: nvidia-cusparselt-cu12==0.6.2 in /usr/local/lib/python3.11/dist-packages (from torch>=2.0.0->accelerate) (0.6.2)\n",
      "Requirement already satisfied: nvidia-nccl-cu12==2.21.5 in /usr/local/lib/python3.11/dist-packages (from torch>=2.0.0->accelerate) (2.21.5)\n",
      "Requirement already satisfied: nvidia-nvtx-cu12==12.4.127 in /usr/local/lib/python3.11/dist-packages (from torch>=2.0.0->accelerate) (12.4.127)\n",
      "Collecting nvidia-nvjitlink-cu12==12.4.127 (from torch>=2.0.0->accelerate)\n",
      "  Downloading nvidia_nvjitlink_cu12-12.4.127-py3-none-manylinux2014_x86_64.whl.metadata (1.5 kB)\n",
      "Requirement already satisfied: triton==3.2.0 in /usr/local/lib/python3.11/dist-packages (from torch>=2.0.0->accelerate) (3.2.0)\n",
      "Requirement already satisfied: sympy==1.13.1 in /usr/local/lib/python3.11/dist-packages (from torch>=2.0.0->accelerate) (1.13.1)\n",
      "Requirement already satisfied: mpmath<1.4,>=1.1.0 in /usr/local/lib/python3.11/dist-packages (from sympy==1.13.1->torch>=2.0.0->accelerate) (1.3.0)\n",
      "Requirement already satisfied: charset-normalizer<4,>=2 in /usr/local/lib/python3.11/dist-packages (from requests->transformers) (3.4.2)\n",
      "Requirement already satisfied: idna<4,>=2.5 in /usr/local/lib/python3.11/dist-packages (from requests->transformers) (3.10)\n",
      "Requirement already satisfied: urllib3<3,>=1.21.1 in /usr/local/lib/python3.11/dist-packages (from requests->transformers) (2.4.0)\n",
      "Requirement already satisfied: certifi>=2017.4.17 in /usr/local/lib/python3.11/dist-packages (from requests->transformers) (2025.4.26)\n",
      "Requirement already satisfied: MarkupSafe>=2.0 in /usr/local/lib/python3.11/dist-packages (from jinja2->torch>=2.0.0->accelerate) (3.0.2)\n",
      "Requirement already satisfied: intel-openmp<2026,>=2024 in /usr/local/lib/python3.11/dist-packages (from mkl->numpy>=1.17->transformers) (2024.2.0)\n",
      "Requirement already satisfied: tbb==2022.* in /usr/local/lib/python3.11/dist-packages (from mkl->numpy>=1.17->transformers) (2022.1.0)\n",
      "Requirement already satisfied: tcmlib==1.* in /usr/local/lib/python3.11/dist-packages (from tbb==2022.*->mkl->numpy>=1.17->transformers) (1.3.0)\n",
      "Requirement already satisfied: intel-cmplr-lib-rt in /usr/local/lib/python3.11/dist-packages (from mkl_umath->numpy>=1.17->transformers) (2024.2.0)\n",
      "Requirement already satisfied: intel-cmplr-lib-ur==2024.2.0 in /usr/local/lib/python3.11/dist-packages (from intel-openmp<2026,>=2024->mkl->numpy>=1.17->transformers) (2024.2.0)\n",
      "Downloading nvidia_cublas_cu12-12.4.5.8-py3-none-manylinux2014_x86_64.whl (363.4 MB)\n",
      "\u001b[2K   \u001b[90m━━━━━━━━━━━━━━━━━━━━━━━━━━━━━━━━━━━━━━━━\u001b[0m \u001b[32m363.4/363.4 MB\u001b[0m \u001b[31m4.4 MB/s\u001b[0m eta \u001b[36m0:00:00\u001b[0m0:00:01\u001b[0m00:01\u001b[0m\n",
      "\u001b[?25hDownloading nvidia_cudnn_cu12-9.1.0.70-py3-none-manylinux2014_x86_64.whl (664.8 MB)\n",
      "\u001b[2K   \u001b[90m━━━━━━━━━━━━━━━━━━━━━━━━━━━━━━━━━━━━━━━━\u001b[0m \u001b[32m664.8/664.8 MB\u001b[0m \u001b[31m2.3 MB/s\u001b[0m eta \u001b[36m0:00:00\u001b[0m0:00:01\u001b[0m00:01\u001b[0m\n",
      "\u001b[?25hDownloading nvidia_cufft_cu12-11.2.1.3-py3-none-manylinux2014_x86_64.whl (211.5 MB)\n",
      "\u001b[2K   \u001b[90m━━━━━━━━━━━━━━━━━━━━━━━━━━━━━━━━━━━━━━━━\u001b[0m \u001b[32m211.5/211.5 MB\u001b[0m \u001b[31m7.4 MB/s\u001b[0m eta \u001b[36m0:00:00\u001b[0m0:00:01\u001b[0m00:01\u001b[0m\n",
      "\u001b[?25hDownloading nvidia_curand_cu12-10.3.5.147-py3-none-manylinux2014_x86_64.whl (56.3 MB)\n",
      "\u001b[2K   \u001b[90m━━━━━━━━━━━━━━━━━━━━━━━━━━━━━━━━━━━━━━━━\u001b[0m \u001b[32m56.3/56.3 MB\u001b[0m \u001b[31m27.6 MB/s\u001b[0m eta \u001b[36m0:00:00\u001b[0m:00:01\u001b[0m00:01\u001b[0m\n",
      "\u001b[?25hDownloading nvidia_cusolver_cu12-11.6.1.9-py3-none-manylinux2014_x86_64.whl (127.9 MB)\n",
      "\u001b[2K   \u001b[90m━━━━━━━━━━━━━━━━━━━━━━━━━━━━━━━━━━━━━━━━\u001b[0m \u001b[32m127.9/127.9 MB\u001b[0m \u001b[31m11.8 MB/s\u001b[0m eta \u001b[36m0:00:00\u001b[0m:00:01\u001b[0m00:01\u001b[0m\n",
      "\u001b[?25hDownloading nvidia_cusparse_cu12-12.3.1.170-py3-none-manylinux2014_x86_64.whl (207.5 MB)\n",
      "\u001b[2K   \u001b[90m━━━━━━━━━━━━━━━━━━━━━━━━━━━━━━━━━━━━━━━━\u001b[0m \u001b[32m207.5/207.5 MB\u001b[0m \u001b[31m7.1 MB/s\u001b[0m eta \u001b[36m0:00:00\u001b[0m0:00:01\u001b[0m00:01\u001b[0m\n",
      "\u001b[?25hDownloading nvidia_nvjitlink_cu12-12.4.127-py3-none-manylinux2014_x86_64.whl (21.1 MB)\n",
      "\u001b[2K   \u001b[90m━━━━━━━━━━━━━━━━━━━━━━━━━━━━━━━━━━━━━━━━\u001b[0m \u001b[32m21.1/21.1 MB\u001b[0m \u001b[31m69.1 MB/s\u001b[0m eta \u001b[36m0:00:00\u001b[0m:00:01\u001b[0m00:01\u001b[0m\n",
      "\u001b[?25hInstalling collected packages: nvidia-nvjitlink-cu12, nvidia-curand-cu12, nvidia-cufft-cu12, nvidia-cublas-cu12, nvidia-cusparse-cu12, nvidia-cudnn-cu12, nvidia-cusolver-cu12\n",
      "  Attempting uninstall: nvidia-nvjitlink-cu12\n",
      "    Found existing installation: nvidia-nvjitlink-cu12 12.9.41\n",
      "    Uninstalling nvidia-nvjitlink-cu12-12.9.41:\n",
      "      Successfully uninstalled nvidia-nvjitlink-cu12-12.9.41\n",
      "  Attempting uninstall: nvidia-curand-cu12\n",
      "    Found existing installation: nvidia-curand-cu12 10.3.10.19\n",
      "    Uninstalling nvidia-curand-cu12-10.3.10.19:\n",
      "      Successfully uninstalled nvidia-curand-cu12-10.3.10.19\n",
      "  Attempting uninstall: nvidia-cufft-cu12\n",
      "    Found existing installation: nvidia-cufft-cu12 11.4.0.6\n",
      "    Uninstalling nvidia-cufft-cu12-11.4.0.6:\n",
      "      Successfully uninstalled nvidia-cufft-cu12-11.4.0.6\n",
      "  Attempting uninstall: nvidia-cublas-cu12\n",
      "    Found existing installation: nvidia-cublas-cu12 12.9.0.13\n",
      "    Uninstalling nvidia-cublas-cu12-12.9.0.13:\n",
      "      Successfully uninstalled nvidia-cublas-cu12-12.9.0.13\n",
      "  Attempting uninstall: nvidia-cusparse-cu12\n",
      "    Found existing installation: nvidia-cusparse-cu12 12.5.9.5\n",
      "    Uninstalling nvidia-cusparse-cu12-12.5.9.5:\n",
      "      Successfully uninstalled nvidia-cusparse-cu12-12.5.9.5\n",
      "  Attempting uninstall: nvidia-cudnn-cu12\n",
      "    Found existing installation: nvidia-cudnn-cu12 9.3.0.75\n",
      "    Uninstalling nvidia-cudnn-cu12-9.3.0.75:\n",
      "      Successfully uninstalled nvidia-cudnn-cu12-9.3.0.75\n",
      "  Attempting uninstall: nvidia-cusolver-cu12\n",
      "    Found existing installation: nvidia-cusolver-cu12 11.7.4.40\n",
      "    Uninstalling nvidia-cusolver-cu12-11.7.4.40:\n",
      "      Successfully uninstalled nvidia-cusolver-cu12-11.7.4.40\n",
      "Successfully installed nvidia-cublas-cu12-12.4.5.8 nvidia-cudnn-cu12-9.1.0.70 nvidia-cufft-cu12-11.2.1.3 nvidia-curand-cu12-10.3.5.147 nvidia-cusolver-cu12-11.6.1.9 nvidia-cusparse-cu12-12.3.1.170 nvidia-nvjitlink-cu12-12.4.127\n"
     ]
    }
   ],
   "source": [
    "!pip install transformers accelerate\n"
   ]
  },
  {
   "cell_type": "code",
   "execution_count": 3,
   "metadata": {
    "execution": {
     "iopub.execute_input": "2025-07-26T10:33:12.474015Z",
     "iopub.status.busy": "2025-07-26T10:33:12.472272Z",
     "iopub.status.idle": "2025-07-26T10:33:12.484171Z",
     "shell.execute_reply": "2025-07-26T10:33:12.482874Z",
     "shell.execute_reply.started": "2025-07-26T10:33:12.473952Z"
    },
    "trusted": true
   },
   "outputs": [],
   "source": [
    "import pandas as pd"
   ]
  },
  {
   "cell_type": "code",
   "execution_count": 8,
   "metadata": {
    "execution": {
     "iopub.execute_input": "2025-07-26T10:34:22.581891Z",
     "iopub.status.busy": "2025-07-26T10:34:22.581533Z",
     "iopub.status.idle": "2025-07-26T10:34:23.769302Z",
     "shell.execute_reply": "2025-07-26T10:34:23.768497Z",
     "shell.execute_reply.started": "2025-07-26T10:34:22.581867Z"
    },
    "trusted": true
   },
   "outputs": [
    {
     "data": {
      "text/html": [
       "<div>\n",
       "<style scoped>\n",
       "    .dataframe tbody tr th:only-of-type {\n",
       "        vertical-align: middle;\n",
       "    }\n",
       "\n",
       "    .dataframe tbody tr th {\n",
       "        vertical-align: top;\n",
       "    }\n",
       "\n",
       "    .dataframe thead th {\n",
       "        text-align: right;\n",
       "    }\n",
       "</style>\n",
       "<table border=\"1\" class=\"dataframe\">\n",
       "  <thead>\n",
       "    <tr style=\"text-align: right;\">\n",
       "      <th></th>\n",
       "      <th>protein1</th>\n",
       "      <th>protein2</th>\n",
       "      <th>combined_score</th>\n",
       "    </tr>\n",
       "  </thead>\n",
       "  <tbody>\n",
       "    <tr>\n",
       "      <th>0</th>\n",
       "      <td>9606.ENSP00000000233</td>\n",
       "      <td>9606.ENSP00000257770</td>\n",
       "      <td>311</td>\n",
       "    </tr>\n",
       "    <tr>\n",
       "      <th>1</th>\n",
       "      <td>9606.ENSP00000000233</td>\n",
       "      <td>9606.ENSP00000226004</td>\n",
       "      <td>161</td>\n",
       "    </tr>\n",
       "    <tr>\n",
       "      <th>2</th>\n",
       "      <td>9606.ENSP00000000233</td>\n",
       "      <td>9606.ENSP00000434442</td>\n",
       "      <td>499</td>\n",
       "    </tr>\n",
       "    <tr>\n",
       "      <th>3</th>\n",
       "      <td>9606.ENSP00000000233</td>\n",
       "      <td>9606.ENSP00000262455</td>\n",
       "      <td>531</td>\n",
       "    </tr>\n",
       "    <tr>\n",
       "      <th>4</th>\n",
       "      <td>9606.ENSP00000000233</td>\n",
       "      <td>9606.ENSP00000303145</td>\n",
       "      <td>499</td>\n",
       "    </tr>\n",
       "    <tr>\n",
       "      <th>...</th>\n",
       "      <td>...</td>\n",
       "      <td>...</td>\n",
       "      <td>...</td>\n",
       "    </tr>\n",
       "    <tr>\n",
       "      <th>1477605</th>\n",
       "      <td>9606.ENSP00000501317</td>\n",
       "      <td>9606.ENSP00000444357</td>\n",
       "      <td>292</td>\n",
       "    </tr>\n",
       "    <tr>\n",
       "      <th>1477606</th>\n",
       "      <td>9606.ENSP00000501317</td>\n",
       "      <td>9606.ENSP00000296785</td>\n",
       "      <td>962</td>\n",
       "    </tr>\n",
       "    <tr>\n",
       "      <th>1477607</th>\n",
       "      <td>9606.ENSP00000501317</td>\n",
       "      <td>9606.ENSP00000361930</td>\n",
       "      <td>195</td>\n",
       "    </tr>\n",
       "    <tr>\n",
       "      <th>1477608</th>\n",
       "      <td>9606.ENSP00000501317</td>\n",
       "      <td>9606.ENSP00000370745</td>\n",
       "      <td>188</td>\n",
       "    </tr>\n",
       "    <tr>\n",
       "      <th>1477609</th>\n",
       "      <td>9606.ENSP00000501317</td>\n",
       "      <td>9606.ENSP00000290524</td>\n",
       "      <td>618</td>\n",
       "    </tr>\n",
       "  </tbody>\n",
       "</table>\n",
       "<p>1477610 rows × 3 columns</p>\n",
       "</div>"
      ],
      "text/plain": [
       "                     protein1              protein2  combined_score\n",
       "0        9606.ENSP00000000233  9606.ENSP00000257770             311\n",
       "1        9606.ENSP00000000233  9606.ENSP00000226004             161\n",
       "2        9606.ENSP00000000233  9606.ENSP00000434442             499\n",
       "3        9606.ENSP00000000233  9606.ENSP00000262455             531\n",
       "4        9606.ENSP00000000233  9606.ENSP00000303145             499\n",
       "...                       ...                   ...             ...\n",
       "1477605  9606.ENSP00000501317  9606.ENSP00000444357             292\n",
       "1477606  9606.ENSP00000501317  9606.ENSP00000296785             962\n",
       "1477607  9606.ENSP00000501317  9606.ENSP00000361930             195\n",
       "1477608  9606.ENSP00000501317  9606.ENSP00000370745             188\n",
       "1477609  9606.ENSP00000501317  9606.ENSP00000290524             618\n",
       "\n",
       "[1477610 rows x 3 columns]"
      ]
     },
     "execution_count": 8,
     "metadata": {},
     "output_type": "execute_result"
    }
   ],
   "source": [
    "df=pd.read_csv(\"/kaggle/input/ppi-dataset/9606.protein.physical.links.v12.0.txt\", sep=\" \")\n",
    "df"
   ]
  },
  {
   "cell_type": "code",
   "execution_count": 5,
   "metadata": {
    "execution": {
     "iopub.execute_input": "2025-07-26T04:23:15.301165Z",
     "iopub.status.busy": "2025-07-26T04:23:15.300405Z",
     "iopub.status.idle": "2025-07-26T04:23:15.306132Z",
     "shell.execute_reply": "2025-07-26T04:23:15.305219Z",
     "shell.execute_reply.started": "2025-07-26T04:23:15.301139Z"
    },
    "trusted": true
   },
   "outputs": [
    {
     "data": {
      "text/plain": [
       "(1477610, 3)"
      ]
     },
     "execution_count": 5,
     "metadata": {},
     "output_type": "execute_result"
    }
   ],
   "source": [
    "df.shape"
   ]
  },
  {
   "cell_type": "code",
   "execution_count": 7,
   "metadata": {
    "execution": {
     "iopub.execute_input": "2025-07-26T04:23:41.994602Z",
     "iopub.status.busy": "2025-07-26T04:23:41.994297Z",
     "iopub.status.idle": "2025-07-26T04:23:42.388477Z",
     "shell.execute_reply": "2025-07-26T04:23:42.387580Z",
     "shell.execute_reply.started": "2025-07-26T04:23:41.994569Z"
    },
    "trusted": true
   },
   "outputs": [],
   "source": [
    "# Extract unique protein IDs\n",
    "def extract_protein_ids(df):\n",
    "    return pd.unique(df[['protein1', 'protein2']].values.ravel())\n",
    "\n",
    "protein_ids = extract_protein_ids(df)"
   ]
  },
  {
   "cell_type": "code",
   "execution_count": 8,
   "metadata": {
    "execution": {
     "iopub.execute_input": "2025-07-26T04:23:44.746585Z",
     "iopub.status.busy": "2025-07-26T04:23:44.745870Z",
     "iopub.status.idle": "2025-07-26T04:23:44.751637Z",
     "shell.execute_reply": "2025-07-26T04:23:44.750821Z",
     "shell.execute_reply.started": "2025-07-26T04:23:44.746556Z"
    },
    "trusted": true
   },
   "outputs": [
    {
     "data": {
      "text/plain": [
       "array(['9606.ENSP00000000233', '9606.ENSP00000257770',\n",
       "       '9606.ENSP00000226004', ..., '9606.ENSP00000493768',\n",
       "       '9606.ENSP00000493325', '9606.ENSP00000492978'], dtype=object)"
      ]
     },
     "execution_count": 8,
     "metadata": {},
     "output_type": "execute_result"
    }
   ],
   "source": [
    "protein_ids"
   ]
  },
  {
   "cell_type": "code",
   "execution_count": 9,
   "metadata": {
    "execution": {
     "iopub.execute_input": "2025-07-26T10:34:35.995844Z",
     "iopub.status.busy": "2025-07-26T10:34:35.995529Z",
     "iopub.status.idle": "2025-07-26T10:34:37.448104Z",
     "shell.execute_reply": "2025-07-26T10:34:37.447046Z",
     "shell.execute_reply.started": "2025-07-26T10:34:35.995823Z"
    },
    "trusted": true
   },
   "outputs": [
    {
     "data": {
      "text/html": [
       "<div>\n",
       "<style scoped>\n",
       "    .dataframe tbody tr th:only-of-type {\n",
       "        vertical-align: middle;\n",
       "    }\n",
       "\n",
       "    .dataframe tbody tr th {\n",
       "        vertical-align: top;\n",
       "    }\n",
       "\n",
       "    .dataframe thead th {\n",
       "        text-align: right;\n",
       "    }\n",
       "</style>\n",
       "<table border=\"1\" class=\"dataframe\">\n",
       "  <thead>\n",
       "    <tr style=\"text-align: right;\">\n",
       "      <th></th>\n",
       "      <th>protein1</th>\n",
       "      <th>protein2</th>\n",
       "      <th>prot1_clean</th>\n",
       "      <th>prot2_clean</th>\n",
       "      <th>combined_score</th>\n",
       "    </tr>\n",
       "  </thead>\n",
       "  <tbody>\n",
       "    <tr>\n",
       "      <th>0</th>\n",
       "      <td>9606.ENSP00000000233</td>\n",
       "      <td>9606.ENSP00000257770</td>\n",
       "      <td>ENSP00000000233</td>\n",
       "      <td>ENSP00000257770</td>\n",
       "      <td>311</td>\n",
       "    </tr>\n",
       "    <tr>\n",
       "      <th>1</th>\n",
       "      <td>9606.ENSP00000000233</td>\n",
       "      <td>9606.ENSP00000226004</td>\n",
       "      <td>ENSP00000000233</td>\n",
       "      <td>ENSP00000226004</td>\n",
       "      <td>161</td>\n",
       "    </tr>\n",
       "    <tr>\n",
       "      <th>2</th>\n",
       "      <td>9606.ENSP00000000233</td>\n",
       "      <td>9606.ENSP00000434442</td>\n",
       "      <td>ENSP00000000233</td>\n",
       "      <td>ENSP00000434442</td>\n",
       "      <td>499</td>\n",
       "    </tr>\n",
       "    <tr>\n",
       "      <th>3</th>\n",
       "      <td>9606.ENSP00000000233</td>\n",
       "      <td>9606.ENSP00000262455</td>\n",
       "      <td>ENSP00000000233</td>\n",
       "      <td>ENSP00000262455</td>\n",
       "      <td>531</td>\n",
       "    </tr>\n",
       "    <tr>\n",
       "      <th>4</th>\n",
       "      <td>9606.ENSP00000000233</td>\n",
       "      <td>9606.ENSP00000303145</td>\n",
       "      <td>ENSP00000000233</td>\n",
       "      <td>ENSP00000303145</td>\n",
       "      <td>499</td>\n",
       "    </tr>\n",
       "    <tr>\n",
       "      <th>...</th>\n",
       "      <td>...</td>\n",
       "      <td>...</td>\n",
       "      <td>...</td>\n",
       "      <td>...</td>\n",
       "      <td>...</td>\n",
       "    </tr>\n",
       "    <tr>\n",
       "      <th>1477605</th>\n",
       "      <td>9606.ENSP00000501317</td>\n",
       "      <td>9606.ENSP00000444357</td>\n",
       "      <td>ENSP00000501317</td>\n",
       "      <td>ENSP00000444357</td>\n",
       "      <td>292</td>\n",
       "    </tr>\n",
       "    <tr>\n",
       "      <th>1477606</th>\n",
       "      <td>9606.ENSP00000501317</td>\n",
       "      <td>9606.ENSP00000296785</td>\n",
       "      <td>ENSP00000501317</td>\n",
       "      <td>ENSP00000296785</td>\n",
       "      <td>962</td>\n",
       "    </tr>\n",
       "    <tr>\n",
       "      <th>1477607</th>\n",
       "      <td>9606.ENSP00000501317</td>\n",
       "      <td>9606.ENSP00000361930</td>\n",
       "      <td>ENSP00000501317</td>\n",
       "      <td>ENSP00000361930</td>\n",
       "      <td>195</td>\n",
       "    </tr>\n",
       "    <tr>\n",
       "      <th>1477608</th>\n",
       "      <td>9606.ENSP00000501317</td>\n",
       "      <td>9606.ENSP00000370745</td>\n",
       "      <td>ENSP00000501317</td>\n",
       "      <td>ENSP00000370745</td>\n",
       "      <td>188</td>\n",
       "    </tr>\n",
       "    <tr>\n",
       "      <th>1477609</th>\n",
       "      <td>9606.ENSP00000501317</td>\n",
       "      <td>9606.ENSP00000290524</td>\n",
       "      <td>ENSP00000501317</td>\n",
       "      <td>ENSP00000290524</td>\n",
       "      <td>618</td>\n",
       "    </tr>\n",
       "  </tbody>\n",
       "</table>\n",
       "<p>1477610 rows × 5 columns</p>\n",
       "</div>"
      ],
      "text/plain": [
       "                     protein1              protein2      prot1_clean  \\\n",
       "0        9606.ENSP00000000233  9606.ENSP00000257770  ENSP00000000233   \n",
       "1        9606.ENSP00000000233  9606.ENSP00000226004  ENSP00000000233   \n",
       "2        9606.ENSP00000000233  9606.ENSP00000434442  ENSP00000000233   \n",
       "3        9606.ENSP00000000233  9606.ENSP00000262455  ENSP00000000233   \n",
       "4        9606.ENSP00000000233  9606.ENSP00000303145  ENSP00000000233   \n",
       "...                       ...                   ...              ...   \n",
       "1477605  9606.ENSP00000501317  9606.ENSP00000444357  ENSP00000501317   \n",
       "1477606  9606.ENSP00000501317  9606.ENSP00000296785  ENSP00000501317   \n",
       "1477607  9606.ENSP00000501317  9606.ENSP00000361930  ENSP00000501317   \n",
       "1477608  9606.ENSP00000501317  9606.ENSP00000370745  ENSP00000501317   \n",
       "1477609  9606.ENSP00000501317  9606.ENSP00000290524  ENSP00000501317   \n",
       "\n",
       "             prot2_clean  combined_score  \n",
       "0        ENSP00000257770             311  \n",
       "1        ENSP00000226004             161  \n",
       "2        ENSP00000434442             499  \n",
       "3        ENSP00000262455             531  \n",
       "4        ENSP00000303145             499  \n",
       "...                  ...             ...  \n",
       "1477605  ENSP00000444357             292  \n",
       "1477606  ENSP00000296785             962  \n",
       "1477607  ENSP00000361930             195  \n",
       "1477608  ENSP00000370745             188  \n",
       "1477609  ENSP00000290524             618  \n",
       "\n",
       "[1477610 rows x 5 columns]"
      ]
     },
     "execution_count": 9,
     "metadata": {},
     "output_type": "execute_result"
    }
   ],
   "source": [
    "# Remove \"9606.\" prefix to get clean Ensembl IDs\n",
    "df['prot1_clean'] = df['protein1'].str.replace(\"9606.\", \"\", regex=False)\n",
    "df['prot2_clean'] = df['protein2'].str.replace(\"9606.\", \"\", regex=False)\n",
    "\n",
    "df[['protein1', 'protein2', 'prot1_clean', 'prot2_clean', 'combined_score']]"
   ]
  },
  {
   "cell_type": "code",
   "execution_count": 10,
   "metadata": {
    "execution": {
     "iopub.execute_input": "2025-07-26T04:23:53.731110Z",
     "iopub.status.busy": "2025-07-26T04:23:53.730847Z",
     "iopub.status.idle": "2025-07-26T04:23:54.213108Z",
     "shell.execute_reply": "2025-07-26T04:23:54.212544Z",
     "shell.execute_reply.started": "2025-07-26T04:23:53.731090Z"
    },
    "trusted": true
   },
   "outputs": [],
   "source": [
    "import requests\n",
    "import time\n",
    "\n",
    "unique_proteins = set(df['prot1_clean']).union(set(df['prot2_clean']))"
   ]
  },
  {
   "cell_type": "code",
   "execution_count": null,
   "metadata": {
    "trusted": true
   },
   "outputs": [],
   "source": [
    "protein_seq_dict = {}\n",
    "ensembl_url = \"https://rest.ensembl.org/sequence/id/{}?type=protein\"\n",
    "headers = {\"Content-Type\": \"text/plain\"}\n",
    "\n",
    "# Fetch sequences\n",
    "for i, protein_id in enumerate(unique_proteins):\n",
    "    try:\n",
    "        response = requests.get(ensembl_url.format(protein_id), headers=headers, timeout=10)\n",
    "        if response.ok:\n",
    "            protein_seq_dict[protein_id] = response.text.strip()\n",
    "        else:\n",
    "            protein_seq_dict[protein_id] = \"\"\n",
    "    except Exception as e:\n",
    "        print(f\"Error for {protein_id}: {e}\")\n",
    "        protein_seq_dict[protein_id] = \"\"\n",
    "\n",
    "    if i % 500 == 0:\n",
    "        print(f\"Fetched {i}/{len(unique_proteins)} sequences\")\n",
    "    \n",
    "    time.sleep(0.1)"
   ]
  },
  {
   "cell_type": "code",
   "execution_count": 11,
   "metadata": {
    "execution": {
     "iopub.execute_input": "2025-07-26T04:24:42.166256Z",
     "iopub.status.busy": "2025-07-26T04:24:42.165943Z",
     "iopub.status.idle": "2025-07-26T04:24:42.344063Z",
     "shell.execute_reply": "2025-07-26T04:24:42.343250Z",
     "shell.execute_reply.started": "2025-07-26T04:24:42.166235Z"
    },
    "trusted": true
   },
   "outputs": [
    {
     "name": "stdout",
     "output_type": "stream",
     "text": [
      "✅ Loaded 18767 protein sequences\n"
     ]
    }
   ],
   "source": [
    "import pickle\n",
    "\n",
    "with open(\"/kaggle/input/protein-sequences/protein_sequences.pkl\", \"rb\") as f:\n",
    "    protein_seq_dict = pickle.load(f)\n",
    "\n",
    "print(\"✅ Loaded\", len(protein_seq_dict), \"protein sequences\")"
   ]
  },
  {
   "cell_type": "code",
   "execution_count": 12,
   "metadata": {
    "execution": {
     "iopub.execute_input": "2025-07-26T04:24:46.850843Z",
     "iopub.status.busy": "2025-07-26T04:24:46.850569Z",
     "iopub.status.idle": "2025-07-26T04:24:46.855474Z",
     "shell.execute_reply": "2025-07-26T04:24:46.854804Z",
     "shell.execute_reply.started": "2025-07-26T04:24:46.850823Z"
    },
    "trusted": true
   },
   "outputs": [
    {
     "name": "stdout",
     "output_type": "stream",
     "text": [
      "1. ENSP00000419970 → MGDSHVDTSSTVSEAVAEEVSLFSMTDMILFSLIVGLLTYWFLFRKKKEE...\n",
      "2. ENSP00000216373 → MQQAPQPYEFFSEENSPKWRGLLVSALRKVQEQVHPTLSANEESLYYIEE...\n",
      "3. ENSP00000482523 → MDARRMKKEEGLTENTGLPRKLLEKHDPWPAYVTYTSQTVKRLIEKSKTR...\n",
      "4. ENSP00000295709 → MEKYHVLEMIGEGSFGRVYKGRRKYSAQVVALKFIPKLGRSEKELRNLQR...\n",
      "5. ENSP00000329982 → MDGENHSVVSEFLFLGLTHSWEIQLLLLVFSSVLYVASITGNILIVFSVT...\n"
     ]
    }
   ],
   "source": [
    "# Show first 5 \n",
    "for i, (protein_id, sequence) in enumerate(protein_seq_dict.items()):\n",
    "    print(f\"{i+1}. {protein_id} → {sequence[:50]}...\")  # Print first 50 amino acids\n",
    "    if i >= 4:\n",
    "        break"
   ]
  },
  {
   "cell_type": "markdown",
   "metadata": {},
   "source": [
    "FOR EXTRACTING EMBEDDINGS FROM PROTEIN SEQUENCES"
   ]
  },
  {
   "cell_type": "code",
   "execution_count": 13,
   "metadata": {
    "execution": {
     "iopub.execute_input": "2025-07-26T04:25:26.966919Z",
     "iopub.status.busy": "2025-07-26T04:25:26.966642Z",
     "iopub.status.idle": "2025-07-26T04:28:53.584575Z",
     "shell.execute_reply": "2025-07-26T04:28:53.583739Z",
     "shell.execute_reply.started": "2025-07-26T04:25:26.966899Z"
    },
    "trusted": true
   },
   "outputs": [
    {
     "name": "stderr",
     "output_type": "stream",
     "text": [
      "2025-07-26 04:25:40.696236: E external/local_xla/xla/stream_executor/cuda/cuda_fft.cc:477] Unable to register cuFFT factory: Attempting to register factory for plugin cuFFT when one has already been registered\n",
      "WARNING: All log messages before absl::InitializeLog() is called are written to STDERR\n",
      "E0000 00:00:1753503940.929623      35 cuda_dnn.cc:8310] Unable to register cuDNN factory: Attempting to register factory for plugin cuDNN when one has already been registered\n",
      "E0000 00:00:1753503941.001881      35 cuda_blas.cc:1418] Unable to register cuBLAS factory: Attempting to register factory for plugin cuBLAS when one has already been registered\n"
     ]
    },
    {
     "data": {
      "application/vnd.jupyter.widget-view+json": {
       "model_id": "1fcd6100a00c4941b7c6aa765702038b",
       "version_major": 2,
       "version_minor": 0
      },
      "text/plain": [
       "tokenizer_config.json:   0%|          | 0.00/24.0 [00:00<?, ?B/s]"
      ]
     },
     "metadata": {},
     "output_type": "display_data"
    },
    {
     "data": {
      "application/vnd.jupyter.widget-view+json": {
       "model_id": "b5a64e9f29c942a38696e7830eaa6522",
       "version_major": 2,
       "version_minor": 0
      },
      "text/plain": [
       "spiece.model:   0%|          | 0.00/238k [00:00<?, ?B/s]"
      ]
     },
     "metadata": {},
     "output_type": "display_data"
    },
    {
     "data": {
      "application/vnd.jupyter.widget-view+json": {
       "model_id": "540ecb981dde41469fbaddf1c66dd54e",
       "version_major": 2,
       "version_minor": 0
      },
      "text/plain": [
       "special_tokens_map.json: 0.00B [00:00, ?B/s]"
      ]
     },
     "metadata": {},
     "output_type": "display_data"
    },
    {
     "data": {
      "application/vnd.jupyter.widget-view+json": {
       "model_id": "a69c7cbca1954e0c8e28d8da75935358",
       "version_major": 2,
       "version_minor": 0
      },
      "text/plain": [
       "config.json:   0%|          | 0.00/546 [00:00<?, ?B/s]"
      ]
     },
     "metadata": {},
     "output_type": "display_data"
    },
    {
     "name": "stderr",
     "output_type": "stream",
     "text": [
      "You are using the default legacy behaviour of the <class 'transformers.models.t5.tokenization_t5.T5Tokenizer'>. This is expected, and simply means that the `legacy` (previous) behavior will be used so nothing changes for you. If you want to use the new behaviour, set `legacy=False`. This should only be set if you understand what it means, and thoroughly read the reason why this was added as explained in https://github.com/huggingface/transformers/pull/24565\n"
     ]
    },
    {
     "data": {
      "application/vnd.jupyter.widget-view+json": {
       "model_id": "d8784d46b7464d4998d9dfd0d6df5e9d",
       "version_major": 2,
       "version_minor": 0
      },
      "text/plain": [
       "pytorch_model.bin:   0%|          | 0.00/11.3G [00:00<?, ?B/s]"
      ]
     },
     "metadata": {},
     "output_type": "display_data"
    },
    {
     "data": {
      "application/vnd.jupyter.widget-view+json": {
       "model_id": "dd9c1583713a41bda44e5f37c6be37d8",
       "version_major": 2,
       "version_minor": 0
      },
      "text/plain": [
       "model.safetensors:   0%|          | 0.00/11.3G [00:00<?, ?B/s]"
      ]
     },
     "metadata": {},
     "output_type": "display_data"
    }
   ],
   "source": [
    "import torch\n",
    "from transformers import T5Tokenizer, T5EncoderModel\n",
    "import numpy as np\n",
    "\n",
    "# Load ProtT5 model and tokenizer\n",
    "tokenizer = T5Tokenizer.from_pretrained(\"Rostlab/prot_t5_xl_uniref50\", do_lower_case=False)\n",
    "model = T5EncoderModel.from_pretrained(\"Rostlab/prot_t5_xl_uniref50\").eval()\n",
    "device = torch.device(\"cuda\" if torch.cuda.is_available() else \"cpu\")\n",
    "model = model.to(device)"
   ]
  },
  {
   "cell_type": "code",
   "execution_count": null,
   "metadata": {
    "execution": {
     "iopub.execute_input": "2025-07-26T04:29:00.114411Z",
     "iopub.status.busy": "2025-07-26T04:29:00.113592Z",
     "iopub.status.idle": "2025-07-26T04:29:00.120050Z",
     "shell.execute_reply": "2025-07-26T04:29:00.119175Z",
     "shell.execute_reply.started": "2025-07-26T04:29:00.114383Z"
    },
    "trusted": true
   },
   "outputs": [],
   "source": [
    "# def get_embedding(sequence):\n",
    "#     if not sequence or sequence.strip() == \"\":\n",
    "#         return np.zeros(1024)\n",
    "#     sequence = ' '.join(list(sequence.strip())) \n",
    "#     tokens = tokenizer(sequence, return_tensors='pt', padding=True, truncation=True)\n",
    "#     input_ids = tokens['input_ids'].to(device)\n",
    "#     attention_mask = tokens['attention_mask'].to(device)\n",
    "#     with torch.no_grad():\n",
    "#         output = model(input_ids=input_ids, attention_mask=attention_mask)\n",
    "#     embedding = output.last_hidden_state.mean(dim=1).squeeze().cpu().numpy()\n",
    "#     return embedding"
   ]
  },
  {
   "cell_type": "code",
   "execution_count": null,
   "metadata": {
    "trusted": true
   },
   "outputs": [],
   "source": [
    "# import pickle\n",
    "\n",
    "# embedding_dict = {}\n",
    "\n",
    "# for i, (protein_id, seq) in enumerate(protein_seq_dict.items()):\n",
    "#     try:\n",
    "#         embedding_dict[protein_id] = get_embedding(seq)\n",
    "#     except Exception as e:\n",
    "#         print(f\"Error processing {protein_id}: {e}\")\n",
    "#         embedding_dict[protein_id] = np.zeros(1024)\n",
    "\n",
    "#     if i % 500 == 0:\n",
    "#         print(f\"Processed {i}/{len(protein_seq_dict)} proteins\")"
   ]
  },
  {
   "cell_type": "code",
   "execution_count": 15,
   "metadata": {
    "execution": {
     "iopub.execute_input": "2025-07-26T04:29:09.107769Z",
     "iopub.status.busy": "2025-07-26T04:29:09.107461Z",
     "iopub.status.idle": "2025-07-26T04:29:09.114352Z",
     "shell.execute_reply": "2025-07-26T04:29:09.113650Z",
     "shell.execute_reply.started": "2025-07-26T04:29:09.107748Z"
    },
    "trusted": true
   },
   "outputs": [],
   "source": [
    "def safe_get_embedding(sequence, protein_id, max_lengths=[1024, 512, 256]):\n",
    "    if not sequence or sequence.strip() == \"\":\n",
    "        return np.zeros(1024)\n",
    "\n",
    "    sequence = ' '.join(list(sequence.strip()))\n",
    "\n",
    "    for max_len in max_lengths:\n",
    "        try:\n",
    "            tokens = tokenizer(\n",
    "                sequence,\n",
    "                return_tensors='pt',\n",
    "                padding=True,\n",
    "                truncation=True,\n",
    "                max_length=max_len\n",
    "            )\n",
    "            input_ids = tokens['input_ids'].to(device)\n",
    "            attention_mask = tokens['attention_mask'].to(device)\n",
    "\n",
    "            with torch.no_grad():\n",
    "                output = model(input_ids=input_ids, attention_mask=attention_mask)\n",
    "\n",
    "            embedding = output.last_hidden_state.mean(dim=1).squeeze().cpu().numpy()\n",
    "            return embedding\n",
    "\n",
    "        except RuntimeError as e:\n",
    "            print(f\"⚠️ Failed for {protein_id} with max_length={max_len}, retrying...\")\n",
    "\n",
    "            # Free up memory (for GPU)\n",
    "            if torch.cuda.is_available():\n",
    "                torch.cuda.empty_cache()\n",
    "    \n",
    "    print(f\"Could not process {protein_id}. Returning zero embedding.\")\n",
    "    return np.zeros(1024)\n"
   ]
  },
  {
   "cell_type": "code",
   "execution_count": null,
   "metadata": {
    "trusted": true
   },
   "outputs": [],
   "source": [
    "protein_embeddings = {}\n",
    "\n",
    "for i, (prot_id, seq) in enumerate(protein_seq_dict.items()):\n",
    "    emb = safe_get_embedding(seq, prot_id)\n",
    "    protein_embeddings[prot_id] = emb\n",
    "\n",
    "    if i % 1000 == 0:\n",
    "        print(f\"✅ Processed {i}/{len(protein_seq_dict)}\")\n",
    "        with open(\"/kaggle/working/protein_embeddings_partial.pkl\", \"wb\") as f:\n",
    "            pickle.dump(protein_embeddings, f)\n"
   ]
  },
  {
   "cell_type": "code",
   "execution_count": 19,
   "metadata": {
    "execution": {
     "iopub.execute_input": "2025-07-26T04:37:39.104846Z",
     "iopub.status.busy": "2025-07-26T04:37:39.104188Z",
     "iopub.status.idle": "2025-07-26T04:37:39.116671Z",
     "shell.execute_reply": "2025-07-26T04:37:39.115902Z",
     "shell.execute_reply.started": "2025-07-26T04:37:39.104821Z"
    },
    "trusted": true
   },
   "outputs": [
    {
     "name": "stdout",
     "output_type": "stream",
     "text": [
      "✅ Saved all embeddings to protein_embeddings.pkl\n"
     ]
    }
   ],
   "source": [
    "import pickle\n",
    "# Save as pickle\n",
    "with open(\"/kaggle/working/protein_embeddings.pkl\", \"wb\") as f:\n",
    "    pickle.dump(protein_embeddings, f)\n",
    "\n",
    "print(\"Saved all embeddings to protein_embeddings.pkl\")"
   ]
  },
  {
   "cell_type": "code",
   "execution_count": 5,
   "metadata": {
    "execution": {
     "iopub.execute_input": "2025-07-26T10:33:41.211331Z",
     "iopub.status.busy": "2025-07-26T10:33:41.210942Z",
     "iopub.status.idle": "2025-07-26T10:33:42.492397Z",
     "shell.execute_reply": "2025-07-26T10:33:42.491543Z",
     "shell.execute_reply.started": "2025-07-26T10:33:41.211302Z"
    },
    "trusted": true
   },
   "outputs": [
    {
     "name": "stdout",
     "output_type": "stream",
     "text": [
      "Loaded embeddings for 18767 proteins\n"
     ]
    }
   ],
   "source": [
    "import pickle\n",
    "\n",
    "with open(\"/kaggle/input/protein-final-embeddings/protein_embeddings_combined.pkl\", \"rb\") as f:\n",
    "    embedding_dict = pickle.load(f)\n",
    "\n",
    "print(\"Loaded embeddings for\", len(embedding_dict), \"proteins\")"
   ]
  },
  {
   "cell_type": "code",
   "execution_count": 10,
   "metadata": {
    "execution": {
     "iopub.execute_input": "2025-07-26T10:34:48.871712Z",
     "iopub.status.busy": "2025-07-26T10:34:48.871367Z",
     "iopub.status.idle": "2025-07-26T10:34:48.884470Z",
     "shell.execute_reply": "2025-07-26T10:34:48.883499Z",
     "shell.execute_reply.started": "2025-07-26T10:34:48.871689Z"
    },
    "trusted": true
   },
   "outputs": [
    {
     "data": {
      "text/html": [
       "<div>\n",
       "<style scoped>\n",
       "    .dataframe tbody tr th:only-of-type {\n",
       "        vertical-align: middle;\n",
       "    }\n",
       "\n",
       "    .dataframe tbody tr th {\n",
       "        vertical-align: top;\n",
       "    }\n",
       "\n",
       "    .dataframe thead th {\n",
       "        text-align: right;\n",
       "    }\n",
       "</style>\n",
       "<table border=\"1\" class=\"dataframe\">\n",
       "  <thead>\n",
       "    <tr style=\"text-align: right;\">\n",
       "      <th></th>\n",
       "      <th>protein1</th>\n",
       "      <th>protein2</th>\n",
       "      <th>combined_score</th>\n",
       "      <th>prot1_clean</th>\n",
       "      <th>prot2_clean</th>\n",
       "    </tr>\n",
       "  </thead>\n",
       "  <tbody>\n",
       "    <tr>\n",
       "      <th>0</th>\n",
       "      <td>9606.ENSP00000000233</td>\n",
       "      <td>9606.ENSP00000257770</td>\n",
       "      <td>311</td>\n",
       "      <td>ENSP00000000233</td>\n",
       "      <td>ENSP00000257770</td>\n",
       "    </tr>\n",
       "    <tr>\n",
       "      <th>1</th>\n",
       "      <td>9606.ENSP00000000233</td>\n",
       "      <td>9606.ENSP00000226004</td>\n",
       "      <td>161</td>\n",
       "      <td>ENSP00000000233</td>\n",
       "      <td>ENSP00000226004</td>\n",
       "    </tr>\n",
       "    <tr>\n",
       "      <th>2</th>\n",
       "      <td>9606.ENSP00000000233</td>\n",
       "      <td>9606.ENSP00000434442</td>\n",
       "      <td>499</td>\n",
       "      <td>ENSP00000000233</td>\n",
       "      <td>ENSP00000434442</td>\n",
       "    </tr>\n",
       "    <tr>\n",
       "      <th>3</th>\n",
       "      <td>9606.ENSP00000000233</td>\n",
       "      <td>9606.ENSP00000262455</td>\n",
       "      <td>531</td>\n",
       "      <td>ENSP00000000233</td>\n",
       "      <td>ENSP00000262455</td>\n",
       "    </tr>\n",
       "    <tr>\n",
       "      <th>4</th>\n",
       "      <td>9606.ENSP00000000233</td>\n",
       "      <td>9606.ENSP00000303145</td>\n",
       "      <td>499</td>\n",
       "      <td>ENSP00000000233</td>\n",
       "      <td>ENSP00000303145</td>\n",
       "    </tr>\n",
       "    <tr>\n",
       "      <th>...</th>\n",
       "      <td>...</td>\n",
       "      <td>...</td>\n",
       "      <td>...</td>\n",
       "      <td>...</td>\n",
       "      <td>...</td>\n",
       "    </tr>\n",
       "    <tr>\n",
       "      <th>1477605</th>\n",
       "      <td>9606.ENSP00000501317</td>\n",
       "      <td>9606.ENSP00000444357</td>\n",
       "      <td>292</td>\n",
       "      <td>ENSP00000501317</td>\n",
       "      <td>ENSP00000444357</td>\n",
       "    </tr>\n",
       "    <tr>\n",
       "      <th>1477606</th>\n",
       "      <td>9606.ENSP00000501317</td>\n",
       "      <td>9606.ENSP00000296785</td>\n",
       "      <td>962</td>\n",
       "      <td>ENSP00000501317</td>\n",
       "      <td>ENSP00000296785</td>\n",
       "    </tr>\n",
       "    <tr>\n",
       "      <th>1477607</th>\n",
       "      <td>9606.ENSP00000501317</td>\n",
       "      <td>9606.ENSP00000361930</td>\n",
       "      <td>195</td>\n",
       "      <td>ENSP00000501317</td>\n",
       "      <td>ENSP00000361930</td>\n",
       "    </tr>\n",
       "    <tr>\n",
       "      <th>1477608</th>\n",
       "      <td>9606.ENSP00000501317</td>\n",
       "      <td>9606.ENSP00000370745</td>\n",
       "      <td>188</td>\n",
       "      <td>ENSP00000501317</td>\n",
       "      <td>ENSP00000370745</td>\n",
       "    </tr>\n",
       "    <tr>\n",
       "      <th>1477609</th>\n",
       "      <td>9606.ENSP00000501317</td>\n",
       "      <td>9606.ENSP00000290524</td>\n",
       "      <td>618</td>\n",
       "      <td>ENSP00000501317</td>\n",
       "      <td>ENSP00000290524</td>\n",
       "    </tr>\n",
       "  </tbody>\n",
       "</table>\n",
       "<p>1477610 rows × 5 columns</p>\n",
       "</div>"
      ],
      "text/plain": [
       "                     protein1              protein2  combined_score  \\\n",
       "0        9606.ENSP00000000233  9606.ENSP00000257770             311   \n",
       "1        9606.ENSP00000000233  9606.ENSP00000226004             161   \n",
       "2        9606.ENSP00000000233  9606.ENSP00000434442             499   \n",
       "3        9606.ENSP00000000233  9606.ENSP00000262455             531   \n",
       "4        9606.ENSP00000000233  9606.ENSP00000303145             499   \n",
       "...                       ...                   ...             ...   \n",
       "1477605  9606.ENSP00000501317  9606.ENSP00000444357             292   \n",
       "1477606  9606.ENSP00000501317  9606.ENSP00000296785             962   \n",
       "1477607  9606.ENSP00000501317  9606.ENSP00000361930             195   \n",
       "1477608  9606.ENSP00000501317  9606.ENSP00000370745             188   \n",
       "1477609  9606.ENSP00000501317  9606.ENSP00000290524             618   \n",
       "\n",
       "             prot1_clean      prot2_clean  \n",
       "0        ENSP00000000233  ENSP00000257770  \n",
       "1        ENSP00000000233  ENSP00000226004  \n",
       "2        ENSP00000000233  ENSP00000434442  \n",
       "3        ENSP00000000233  ENSP00000262455  \n",
       "4        ENSP00000000233  ENSP00000303145  \n",
       "...                  ...              ...  \n",
       "1477605  ENSP00000501317  ENSP00000444357  \n",
       "1477606  ENSP00000501317  ENSP00000296785  \n",
       "1477607  ENSP00000501317  ENSP00000361930  \n",
       "1477608  ENSP00000501317  ENSP00000370745  \n",
       "1477609  ENSP00000501317  ENSP00000290524  \n",
       "\n",
       "[1477610 rows x 5 columns]"
      ]
     },
     "execution_count": 10,
     "metadata": {},
     "output_type": "execute_result"
    }
   ],
   "source": [
    "df"
   ]
  },
  {
   "cell_type": "code",
   "execution_count": 11,
   "metadata": {
    "execution": {
     "iopub.execute_input": "2025-07-26T10:34:51.860334Z",
     "iopub.status.busy": "2025-07-26T10:34:51.859985Z",
     "iopub.status.idle": "2025-07-26T10:34:53.331369Z",
     "shell.execute_reply": "2025-07-26T10:34:53.330403Z",
     "shell.execute_reply.started": "2025-07-26T10:34:51.860310Z"
    },
    "trusted": true
   },
   "outputs": [],
   "source": [
    "# Mapping proteins to embeddings\n",
    "import numpy as np\n",
    "\n",
    "df['prot1_emb'] = df['prot1_clean'].map(embedding_dict)\n",
    "df['prot2_emb'] = df['prot2_clean'].map(embedding_dict)\n",
    "\n",
    "df = df[df['prot1_emb'].notnull() & df['prot2_emb'].notnull()]\n"
   ]
  },
  {
   "cell_type": "code",
   "execution_count": 12,
   "metadata": {
    "execution": {
     "iopub.execute_input": "2025-07-26T10:34:56.048453Z",
     "iopub.status.busy": "2025-07-26T10:34:56.048075Z",
     "iopub.status.idle": "2025-07-26T10:34:56.078421Z",
     "shell.execute_reply": "2025-07-26T10:34:56.077092Z",
     "shell.execute_reply.started": "2025-07-26T10:34:56.048429Z"
    },
    "trusted": true
   },
   "outputs": [
    {
     "data": {
      "text/html": [
       "<div>\n",
       "<style scoped>\n",
       "    .dataframe tbody tr th:only-of-type {\n",
       "        vertical-align: middle;\n",
       "    }\n",
       "\n",
       "    .dataframe tbody tr th {\n",
       "        vertical-align: top;\n",
       "    }\n",
       "\n",
       "    .dataframe thead th {\n",
       "        text-align: right;\n",
       "    }\n",
       "</style>\n",
       "<table border=\"1\" class=\"dataframe\">\n",
       "  <thead>\n",
       "    <tr style=\"text-align: right;\">\n",
       "      <th></th>\n",
       "      <th>protein1</th>\n",
       "      <th>protein2</th>\n",
       "      <th>combined_score</th>\n",
       "      <th>prot1_clean</th>\n",
       "      <th>prot2_clean</th>\n",
       "      <th>prot1_emb</th>\n",
       "      <th>prot2_emb</th>\n",
       "    </tr>\n",
       "  </thead>\n",
       "  <tbody>\n",
       "    <tr>\n",
       "      <th>0</th>\n",
       "      <td>9606.ENSP00000000233</td>\n",
       "      <td>9606.ENSP00000257770</td>\n",
       "      <td>311</td>\n",
       "      <td>ENSP00000000233</td>\n",
       "      <td>ENSP00000257770</td>\n",
       "      <td>[0.07326313, 0.12325806, -0.006426698, -0.0015...</td>\n",
       "      <td>[0.029869774, 0.10243675, 0.0372968, 0.0233545...</td>\n",
       "    </tr>\n",
       "    <tr>\n",
       "      <th>1</th>\n",
       "      <td>9606.ENSP00000000233</td>\n",
       "      <td>9606.ENSP00000226004</td>\n",
       "      <td>161</td>\n",
       "      <td>ENSP00000000233</td>\n",
       "      <td>ENSP00000226004</td>\n",
       "      <td>[0.07326313, 0.12325806, -0.006426698, -0.0015...</td>\n",
       "      <td>[0.036910426, 0.05981237, 0.002925644, -0.0113...</td>\n",
       "    </tr>\n",
       "    <tr>\n",
       "      <th>2</th>\n",
       "      <td>9606.ENSP00000000233</td>\n",
       "      <td>9606.ENSP00000434442</td>\n",
       "      <td>499</td>\n",
       "      <td>ENSP00000000233</td>\n",
       "      <td>ENSP00000434442</td>\n",
       "      <td>[0.07326313, 0.12325806, -0.006426698, -0.0015...</td>\n",
       "      <td>[-0.013162708, 0.030456692, 0.026405046, 0.022...</td>\n",
       "    </tr>\n",
       "    <tr>\n",
       "      <th>3</th>\n",
       "      <td>9606.ENSP00000000233</td>\n",
       "      <td>9606.ENSP00000262455</td>\n",
       "      <td>531</td>\n",
       "      <td>ENSP00000000233</td>\n",
       "      <td>ENSP00000262455</td>\n",
       "      <td>[0.07326313, 0.12325806, -0.006426698, -0.0015...</td>\n",
       "      <td>[0.014434807, 0.05334871, 0.034285888, 0.01530...</td>\n",
       "    </tr>\n",
       "    <tr>\n",
       "      <th>4</th>\n",
       "      <td>9606.ENSP00000000233</td>\n",
       "      <td>9606.ENSP00000303145</td>\n",
       "      <td>499</td>\n",
       "      <td>ENSP00000000233</td>\n",
       "      <td>ENSP00000303145</td>\n",
       "      <td>[0.07326313, 0.12325806, -0.006426698, -0.0015...</td>\n",
       "      <td>[0.029557526, 0.047400177, 0.021726472, -0.030...</td>\n",
       "    </tr>\n",
       "    <tr>\n",
       "      <th>...</th>\n",
       "      <td>...</td>\n",
       "      <td>...</td>\n",
       "      <td>...</td>\n",
       "      <td>...</td>\n",
       "      <td>...</td>\n",
       "      <td>...</td>\n",
       "      <td>...</td>\n",
       "    </tr>\n",
       "    <tr>\n",
       "      <th>1477605</th>\n",
       "      <td>9606.ENSP00000501317</td>\n",
       "      <td>9606.ENSP00000444357</td>\n",
       "      <td>292</td>\n",
       "      <td>ENSP00000501317</td>\n",
       "      <td>ENSP00000444357</td>\n",
       "      <td>[0.0, 0.0, 0.0, 0.0, 0.0, 0.0, 0.0, 0.0, 0.0, ...</td>\n",
       "      <td>[0.014785956, 0.056924693, 0.06229085, -0.0340...</td>\n",
       "    </tr>\n",
       "    <tr>\n",
       "      <th>1477606</th>\n",
       "      <td>9606.ENSP00000501317</td>\n",
       "      <td>9606.ENSP00000296785</td>\n",
       "      <td>962</td>\n",
       "      <td>ENSP00000501317</td>\n",
       "      <td>ENSP00000296785</td>\n",
       "      <td>[0.0, 0.0, 0.0, 0.0, 0.0, 0.0, 0.0, 0.0, 0.0, ...</td>\n",
       "      <td>[0.035299234, -0.027414408, -0.027663784, 0.05...</td>\n",
       "    </tr>\n",
       "    <tr>\n",
       "      <th>1477607</th>\n",
       "      <td>9606.ENSP00000501317</td>\n",
       "      <td>9606.ENSP00000361930</td>\n",
       "      <td>195</td>\n",
       "      <td>ENSP00000501317</td>\n",
       "      <td>ENSP00000361930</td>\n",
       "      <td>[0.0, 0.0, 0.0, 0.0, 0.0, 0.0, 0.0, 0.0, 0.0, ...</td>\n",
       "      <td>[0.05269495, 0.05626375, -0.016120307, -0.0209...</td>\n",
       "    </tr>\n",
       "    <tr>\n",
       "      <th>1477608</th>\n",
       "      <td>9606.ENSP00000501317</td>\n",
       "      <td>9606.ENSP00000370745</td>\n",
       "      <td>188</td>\n",
       "      <td>ENSP00000501317</td>\n",
       "      <td>ENSP00000370745</td>\n",
       "      <td>[0.0, 0.0, 0.0, 0.0, 0.0, 0.0, 0.0, 0.0, 0.0, ...</td>\n",
       "      <td>[0.030423379, 0.07824146, 0.027084596, 0.01682...</td>\n",
       "    </tr>\n",
       "    <tr>\n",
       "      <th>1477609</th>\n",
       "      <td>9606.ENSP00000501317</td>\n",
       "      <td>9606.ENSP00000290524</td>\n",
       "      <td>618</td>\n",
       "      <td>ENSP00000501317</td>\n",
       "      <td>ENSP00000290524</td>\n",
       "      <td>[0.0, 0.0, 0.0, 0.0, 0.0, 0.0, 0.0, 0.0, 0.0, ...</td>\n",
       "      <td>[-0.022777576, -0.012409861, 0.061912164, -0.0...</td>\n",
       "    </tr>\n",
       "  </tbody>\n",
       "</table>\n",
       "<p>1477610 rows × 7 columns</p>\n",
       "</div>"
      ],
      "text/plain": [
       "                     protein1              protein2  combined_score  \\\n",
       "0        9606.ENSP00000000233  9606.ENSP00000257770             311   \n",
       "1        9606.ENSP00000000233  9606.ENSP00000226004             161   \n",
       "2        9606.ENSP00000000233  9606.ENSP00000434442             499   \n",
       "3        9606.ENSP00000000233  9606.ENSP00000262455             531   \n",
       "4        9606.ENSP00000000233  9606.ENSP00000303145             499   \n",
       "...                       ...                   ...             ...   \n",
       "1477605  9606.ENSP00000501317  9606.ENSP00000444357             292   \n",
       "1477606  9606.ENSP00000501317  9606.ENSP00000296785             962   \n",
       "1477607  9606.ENSP00000501317  9606.ENSP00000361930             195   \n",
       "1477608  9606.ENSP00000501317  9606.ENSP00000370745             188   \n",
       "1477609  9606.ENSP00000501317  9606.ENSP00000290524             618   \n",
       "\n",
       "             prot1_clean      prot2_clean  \\\n",
       "0        ENSP00000000233  ENSP00000257770   \n",
       "1        ENSP00000000233  ENSP00000226004   \n",
       "2        ENSP00000000233  ENSP00000434442   \n",
       "3        ENSP00000000233  ENSP00000262455   \n",
       "4        ENSP00000000233  ENSP00000303145   \n",
       "...                  ...              ...   \n",
       "1477605  ENSP00000501317  ENSP00000444357   \n",
       "1477606  ENSP00000501317  ENSP00000296785   \n",
       "1477607  ENSP00000501317  ENSP00000361930   \n",
       "1477608  ENSP00000501317  ENSP00000370745   \n",
       "1477609  ENSP00000501317  ENSP00000290524   \n",
       "\n",
       "                                                 prot1_emb  \\\n",
       "0        [0.07326313, 0.12325806, -0.006426698, -0.0015...   \n",
       "1        [0.07326313, 0.12325806, -0.006426698, -0.0015...   \n",
       "2        [0.07326313, 0.12325806, -0.006426698, -0.0015...   \n",
       "3        [0.07326313, 0.12325806, -0.006426698, -0.0015...   \n",
       "4        [0.07326313, 0.12325806, -0.006426698, -0.0015...   \n",
       "...                                                    ...   \n",
       "1477605  [0.0, 0.0, 0.0, 0.0, 0.0, 0.0, 0.0, 0.0, 0.0, ...   \n",
       "1477606  [0.0, 0.0, 0.0, 0.0, 0.0, 0.0, 0.0, 0.0, 0.0, ...   \n",
       "1477607  [0.0, 0.0, 0.0, 0.0, 0.0, 0.0, 0.0, 0.0, 0.0, ...   \n",
       "1477608  [0.0, 0.0, 0.0, 0.0, 0.0, 0.0, 0.0, 0.0, 0.0, ...   \n",
       "1477609  [0.0, 0.0, 0.0, 0.0, 0.0, 0.0, 0.0, 0.0, 0.0, ...   \n",
       "\n",
       "                                                 prot2_emb  \n",
       "0        [0.029869774, 0.10243675, 0.0372968, 0.0233545...  \n",
       "1        [0.036910426, 0.05981237, 0.002925644, -0.0113...  \n",
       "2        [-0.013162708, 0.030456692, 0.026405046, 0.022...  \n",
       "3        [0.014434807, 0.05334871, 0.034285888, 0.01530...  \n",
       "4        [0.029557526, 0.047400177, 0.021726472, -0.030...  \n",
       "...                                                    ...  \n",
       "1477605  [0.014785956, 0.056924693, 0.06229085, -0.0340...  \n",
       "1477606  [0.035299234, -0.027414408, -0.027663784, 0.05...  \n",
       "1477607  [0.05269495, 0.05626375, -0.016120307, -0.0209...  \n",
       "1477608  [0.030423379, 0.07824146, 0.027084596, 0.01682...  \n",
       "1477609  [-0.022777576, -0.012409861, 0.061912164, -0.0...  \n",
       "\n",
       "[1477610 rows x 7 columns]"
      ]
     },
     "execution_count": 12,
     "metadata": {},
     "output_type": "execute_result"
    }
   ],
   "source": [
    "df"
   ]
  },
  {
   "cell_type": "code",
   "execution_count": 14,
   "metadata": {
    "execution": {
     "iopub.execute_input": "2025-07-26T10:38:10.132582Z",
     "iopub.status.busy": "2025-07-26T10:38:10.132196Z",
     "iopub.status.idle": "2025-07-26T10:38:10.139714Z",
     "shell.execute_reply": "2025-07-26T10:38:10.138607Z",
     "shell.execute_reply.started": "2025-07-26T10:38:10.132559Z"
    },
    "trusted": true
   },
   "outputs": [
    {
     "data": {
      "text/plain": [
       "1024"
      ]
     },
     "execution_count": 14,
     "metadata": {},
     "output_type": "execute_result"
    }
   ],
   "source": [
    "len(df['prot1_emb'][0])"
   ]
  }
 ],
 "metadata": {
  "kaggle": {
   "accelerator": "none",
   "dataSources": [
    {
     "datasetId": 7708924,
     "sourceId": 12234912,
     "sourceType": "datasetVersion"
    },
    {
     "datasetId": 7714109,
     "sourceId": 12243060,
     "sourceType": "datasetVersion"
    },
    {
     "datasetId": 7944822,
     "sourceId": 12579869,
     "sourceType": "datasetVersion"
    }
   ],
   "dockerImageVersionId": 31041,
   "isGpuEnabled": false,
   "isInternetEnabled": true,
   "language": "python",
   "sourceType": "notebook"
  },
  "kernelspec": {
   "display_name": "Python 3",
   "language": "python",
   "name": "python3"
  },
  "language_info": {
   "codemirror_mode": {
    "name": "ipython",
    "version": 3
   },
   "file_extension": ".py",
   "mimetype": "text/x-python",
   "name": "python",
   "nbconvert_exporter": "python",
   "pygments_lexer": "ipython3",
   "version": "3.11.11"
  }
 },
 "nbformat": 4,
 "nbformat_minor": 4
}
